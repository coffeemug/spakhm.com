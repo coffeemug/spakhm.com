{
  "cells": [
    {
      "cell_type": "markdown",
      "metadata": {
        "id": "view-in-github",
        "colab_type": "text"
      },
      "source": [
        "<a href=\"https://colab.research.google.com/github/coffeemug/spakhm.com/blob/master/posts/02-linalg-p2.ipynb\" target=\"_parent\"><img src=\"https://colab.research.google.com/assets/colab-badge.svg\" alt=\"Open In Colab\"/></a>"
      ]
    },
    {
      "cell_type": "raw",
      "metadata": {
        "id": "x66I5On17QHg"
      },
      "source": [
        "---\n",
        "title: \"Linear Algebra for programmers, part 2\"\n",
        "description: \"The machinery.\"\n",
        "date: \"2023-09-05\"\n",
        "---"
      ]
    },
    {
      "cell_type": "markdown",
      "source": [
        "If you haven't read [part one](../linalg-p1.html) yet, read it first."
      ],
      "metadata": {
        "id": "F4CbvQcB73Mt"
      }
    },
    {
      "cell_type": "markdown",
      "source": [
        "## Vector spaces"
      ],
      "metadata": {
        "id": "wcEFYPgx8ZPG"
      }
    },
    {
      "cell_type": "markdown",
      "source": [
        "Let me get something out of the way. There is nothing especially difficult about vector spaces. A normal cartesian 2D space is a vector space (as is 1D space, 3D space, and n-D space).\n",
        "\n",
        "A vector space is a set of elements that satisfies three properties:\n",
        "\n",
        "- Contains zero\n",
        "- If you take an element from the set and multiply it by a number, the result must be in the set (closed under scalar multiplication)\n",
        "- If you take two elements from the set and add them, the result must be in the set (closed under addition)\n",
        "\n",
        "If you think of all the points in a Cartesian space as elements in a giant set, obviously Cartesian spaces satisfy these properties. First, a Cartesian space has an origin (which is the zero vector). Second, if you take any vector from the space and make it longer, the resulting vector is also in the space. And third, if you take two vectors and add them, the result is in the space. Voila!\n",
        "\n",
        "Right about here mathematicians will excommunicate me because the above isn't strictly true, and you're a bad person unless you go and read a proper text book, such as [Linear Algebra Done Right](https://www.amazon.com/Linear-Algebra-Right-Undergraduate-Mathematics/dp/3319110799/) (an excellent book, btw). For example, the fact that vector spaces contain zero isn't a part of the definition, but a consequence of the fact that in the _real_ definition additive inverse must be defined, so if $v$ is in the set then $-v$ must also be in the set, and since $v+(-v)=0$ then $0$ must be in the set. If you're curious you should by all means go and study the real thing, but it _will_ be considerably easier if you first develop an intuition first. So, I accept my penance, and for the moment we'll stick with \"contains zero\"."
      ],
      "metadata": {
        "id": "y8dfvOUx8dPI"
      }
    },
    {
      "cell_type": "markdown",
      "source": [
        "## Constructing vector spaces"
      ],
      "metadata": {
        "id": "nY8tZU3xD0F2"
      }
    },
    {
      "cell_type": "markdown",
      "source": [
        "Let's say you want to construct a 2D vector space. Meaning, you want a set of all points on a plane. How do you express that mathematically? A trivial way to do it would be to take two vectors, say $(1, 0)$ and $(0, 1)$, scale each one to every conceivable length, and sum them. So for example $(2, 2) = 2(1, 0) + 2(0, 1)$. More generally you can express any vector $(x, y)$ as $x(1, 0) + y(0, 1)$. If you do it for every $x$ and $y$ you get every point in a 2D plane.\n",
        "\n",
        "This kind of thing happens so often in linear algebra that these ideas have names. A __linear combination__ is the sum of a bunch of scaled vectors. $2(1, 0) + 2(0, 1)$ is a linear combination because we take two vectors, scale them (both by 2 in this case), and sum them. A __span__ of some vectors is the set of all possible linear combinations of those vectors. The set $\\{x(1, 0)+y(0, 1)\\mid x\\in\\mathbb{R}, y\\in\\mathbb{R}\\}$ is the span of $(1, 0)$ and $(0, 1)$. It contains every point on a 2D plane. Since it satisfies our three properties, it's a vector space.\n",
        "\n"
      ],
      "metadata": {
        "id": "O0I0-37sD0gG"
      }
    },
    {
      "cell_type": "markdown",
      "source": [],
      "metadata": {
        "id": "eHXxSBWiD0_Y"
      }
    },
    {
      "cell_type": "markdown",
      "source": [],
      "metadata": {
        "id": "DED_SxDWD1Z6"
      }
    },
    {
      "cell_type": "markdown",
      "source": [],
      "metadata": {
        "id": "VLUEo1w4D1y6"
      }
    },
    {
      "cell_type": "markdown",
      "source": [],
      "metadata": {
        "id": "dKPphleJD2P1"
      }
    }
  ],
  "metadata": {
    "kernelspec": {
      "display_name": "Python 3",
      "language": "python",
      "name": "python3"
    },
    "language_info": {
      "codemirror_mode": {
        "name": "ipython",
        "version": 3
      },
      "file_extension": ".py",
      "mimetype": "text/x-python",
      "name": "python",
      "nbconvert_exporter": "python",
      "pygments_lexer": "ipython3",
      "version": "3.9.16"
    },
    "orig_nbformat": 4,
    "colab": {
      "provenance": [],
      "include_colab_link": true
    }
  },
  "nbformat": 4,
  "nbformat_minor": 0
}
{
  "cells": [
    {
      "cell_type": "markdown",
      "metadata": {
        "id": "view-in-github",
        "colab_type": "text"
      },
      "source": [
        "<a href=\"https://colab.research.google.com/github/coffeemug/spakhm.com/blob/master/posts/02-linalg-p2.ipynb\" target=\"_parent\"><img src=\"https://colab.research.google.com/assets/colab-badge.svg\" alt=\"Open In Colab\"/></a>"
      ]
    },
    {
      "cell_type": "raw",
      "metadata": {
        "id": "x66I5On17QHg"
      },
      "source": [
        "---\n",
        "title: \"Linear Algebra for programmers, part 2\"\n",
        "description: \"The machinery.\"\n",
        "date: \"2023-09-05\"\n",
        "---"
      ]
    },
    {
      "cell_type": "markdown",
      "source": [
        "If you haven't read [part one](../linalg-p1.html) yet, read it first."
      ],
      "metadata": {
        "id": "F4CbvQcB73Mt"
      }
    },
    {
      "cell_type": "markdown",
      "source": [
        "## Vector spaces"
      ],
      "metadata": {
        "id": "wcEFYPgx8ZPG"
      }
    },
    {
      "cell_type": "markdown",
      "source": [
        "Programmers think of vectors as one dimensional arrays of numbers. Mathematicians are a more abstract lot and don't define vectors at all. Instead they define structures called _vector spaces_ and prove things about those. This is convenient because it automagically tells you things about all objects that satisfy properties mandated by vector spaces. One dimensional arrays of numbers are one such object. There are many others, like polynominal functions, for example. Here I'll stick to vectors of real numbers, which for now is all you need to know about anyway.\n",
        "\n",
        "A vector space is a set that satisfies three properties:\n",
        "- Closed under addition (if you take two elements from the set and add them, the result must be in the set)\n",
        "- Closed under scalar multiplication (if you take an element from the set and multiply it by a number, the result must be in the set)\n",
        "- Contains zero\n",
        "\n",
        "Right about here the mathematicians will excommunicate me because the above isn't strictly true. For example, the fact that vector spaces contain zero isn't a base property, but a consequence of the fact that additive inverse must be defined. So if $v$ is in the set, $-v$ must also be in the set, and $v+(-v)=0$ so $0$ must be in the set. You can go read about this on [wikipedia](https://en.wikipedia.org/wiki/Vector_space)."
      ],
      "metadata": {
        "id": "y8dfvOUx8dPI"
      }
    },
    {
      "cell_type": "code",
      "source": [],
      "metadata": {
        "id": "TgRgX5wnAFC7"
      },
      "execution_count": null,
      "outputs": []
    }
  ],
  "metadata": {
    "kernelspec": {
      "display_name": "Python 3",
      "language": "python",
      "name": "python3"
    },
    "language_info": {
      "codemirror_mode": {
        "name": "ipython",
        "version": 3
      },
      "file_extension": ".py",
      "mimetype": "text/x-python",
      "name": "python",
      "nbconvert_exporter": "python",
      "pygments_lexer": "ipython3",
      "version": "3.9.16"
    },
    "orig_nbformat": 4,
    "colab": {
      "provenance": [],
      "include_colab_link": true
    }
  },
  "nbformat": 4,
  "nbformat_minor": 0
}
{
 "cells": [
  {
   "attachments": {},
   "cell_type": "raw",
   "metadata": {},
   "source": [
    "---\n",
    "title: \"Linear Algebra for programmers, part 1\"\n",
    "description: \" From notation to meaning.\"\n",
    "date: \"2023-08-27\"\n",
    "---"
   ]
  },
  {
   "cell_type": "markdown",
   "metadata": {},
   "source": [
    "[![](xkcd-matrix.jpg){width=500 fig-align=\"center\"}](https://xkcd.com/566/)\n",
    "\n",
    "The most important thing about reading this blog post is to not get scared off by the formulas. The post may look like all the crap you normally skim over, so you may be tempted to skim over this one. Don't! __None of this is hard.__ Just read the post top to bottom, and I promise you every individual step and the whole thing put together will make sense."
   ]
  },
  {
   "cell_type": "markdown",
   "metadata": {},
   "source": [
    "## Highschool math"
   ]
  },
  {
   "attachments": {},
   "cell_type": "markdown",
   "metadata": {},
   "source": [
    "In hight school your math teacher may have started a treatment of linear algebra by making you solve a system of linear equations, at which point you very sensibly zoned out because you knew you'd go on to program computers and never have to solve a system of linear equations again (don't worry, I won't be talking much about them here)."
   ]
  },
  {
   "cell_type": "markdown",
   "metadata": {},
   "source": [
    "$$\n",
    "\\begin{eqnarray}\n",
    "0x_1 + 1x_2 = 0\\\\\n",
    "-1x_1 - 0x_2 = 0\n",
    "\\end{eqnarray}\n",
    "\\tag{1}\n",
    "$$"
   ]
  },
  {
   "cell_type": "markdown",
   "metadata": {},
   "source": [
    "You also may have learned that for some reason you can take the coefficients and put them in a 2D array like this:\n",
    "$A=\\begin{bmatrix}\n",
    "0 & 1 \\\\\n",
    "-1 & 0 \\\\\n",
    "\\end{bmatrix}$.\n",
    "You've now defined a matrix $A$, and you can re-express the system of linear equations above as follows:"
   ]
  },
  {
   "cell_type": "markdown",
   "metadata": {},
   "source": [
    "$$\n",
    "\\newcommand\\qvec[1]{\\begin{bmatrix}#1\\end{bmatrix}}\n",
    "A\\qvec{x_1\\\\x_2}=0\n",
    "\\tag{2}\n",
    "$$"
   ]
  },
  {
   "cell_type": "markdown",
   "metadata": {},
   "source": [
    "If you're _really_ hellbent on cleaning things up, you can express the vector $\\qvec{x_1, x_2}$ as $x=\\qvec{x_1 \\\\ x_2}$, which now gives you a really clean equation:"
   ]
  },
  {
   "cell_type": "markdown",
   "metadata": {},
   "source": [
    "$$\n",
    "Ax=0\n",
    "\\tag{3}\n",
    "$$"
   ]
  },
  {
   "cell_type": "markdown",
   "metadata": {},
   "source": [
    "Equations 1 - 3 are just different ways to say the exact same thing. In different situations you may prefer one notation over another, but there is no material difference between them. They are all equivalent."
   ]
  },
  {
   "cell_type": "markdown",
   "metadata": {},
   "source": [
    "## Matrix-vector multiplication"
   ]
  },
  {
   "cell_type": "markdown",
   "metadata": {},
   "source": [
    "I'll talk about what matrix-vector multiplication _means_ in a moment. For now let's look at how the operation is defined. The precise definition of matrix-vector multiplication flows out of the notation above, so you never again have to look it up on wikipedia. If you need to multiply a matrix by a vector, say $\\begin{bmatrix}\n",
    "0 & 1 \\\\\n",
    "-1 & 0 \\\\\n",
    "\\end{bmatrix}\n",
    "\\qvec{1 \\\\ 2}$, just recall that this is equivalent to the left side of the system of equations above. Before, we took the coefficients in the linear equation system and factored them out into a 2D array. Now we reverse the procedure-- take our 2D array and factor it back in as coefficients:\n",
    "\n",
    "$$\n",
    "\\qvec{\n",
    "0*1 + 1*2\\\\\n",
    "-1*1 - 0*2\n",
    "}=\\qvec{2 \\\\ -1}\n",
    "$$\n",
    "\n",
    "If you forget how matrix-vector multiplication works, just remember that its definition flows out of the notation. Convert the matrix-vector multiplication notation back into the linear equation system notation again, and you get matrix-vector multiplication.\n",
    "\n",
    "You may remember from high school that there is an operation defined on vectors called the dot product. The dot product is the sum of pairwise multiplication of elements of two vectors. E.g. $\\qvec{0, 1}\\cdot\\qvec{1, 2}=0*1 + 1*2=2$. The dot product of two vectors is an operation that represents the degree to which the two vectors point in the same direction.\n",
    "\n",
    "That's simple enough. But here is something curious. Another way to think of matrix-vector multiplication is by treating each row of a matrix as its own vector, and computing the dot products of these row vectors with the vector we're multiplying by (in this case $\\qvec{1, 2}$). How on earth does that work?! What does vector similarity have to do with linear equations, or with matrix-vector multiplication? I cannot answer this question quite yet. But we'll eventually build up to an answer in future posts."
   ]
  },
  {
   "cell_type": "markdown",
   "metadata": {},
   "source": [
    "## Matrices as functions"
   ]
  },
  {
   "cell_type": "markdown",
   "metadata": {},
   "source": [
    "Now let's look at what matrix-vector multiplication means. This blew my mind when I first learned about it. You can think of a matrix as a function, and you can think of multiplying a matrix by a vector as applying that function to the vector. So when you see $Ax$, autocomplete it in your head to \"calling some function $A$ with argument $x$\"."
   ]
  },
  {
   "cell_type": "markdown",
   "metadata": {},
   "source": [
    "This is actually not so strange-- you can think of many structures as functions. For example, you can think of a number $3$ as a function. When you multiply it by things, it makes them three times bigger. Thinking about matrices this way happens to be very convenient."
   ]
  },
  {
   "cell_type": "markdown",
   "metadata": {},
   "source": [
    "The fact that $Ax=0$ denotes both the linear system in equation 1, and a call to a function $A$ with argument $x$ (getting the zero vector in return) leads to a curious insight about the relationship between high school math and programming.\n",
    "\n",
    "In high school you're given equations and asked to find their roots. We already established that a system of equations is equivalent to matrix-vector multiplication, which can be thought of as function application. And so, in high school you're _given_ a function $A$ along with its output, and asked to _find the inputs that match that output_. Programming is usually the exact opposite. In programming what you're _given_ is the shape of inputs and outputs, and your job is to _construct a function_ $A$ that converts inputs to desired outputs. The computer then executes the functions you construct, often at scale.\n",
    "\n",
    "So it turns out that solving systems of linear equations in high school math classes and writing React code in your day job are two sides of the same coin! It's a complicated idea, so it takes a while to wrap your head around its implications (and its limitations). Illuminating this relationship in much more depth is another thing I hope to accomplish with this series of posts."
   ]
  },
  {
   "cell_type": "markdown",
   "metadata": {},
   "source": [
    "## What do matrices do?"
   ]
  },
  {
   "cell_type": "markdown",
   "metadata": {},
   "source": [
    "Going back to our lowly 2x2 matrix $A=\\begin{bmatrix}\n",
    "0 & 1 \\\\\n",
    "-1 & 0 \\\\\n",
    "\\end{bmatrix}$, let's consider what this matrix does. Taking an equally lowly vector $x=\\qvec{0, 1}$ and multiplying $A$ by $x$, we get $Ax=\\qvec{1, 0}$. Let's do this a few more times:\n",
    "\n",
    "$$\n",
    "\\begin{aligned}\n",
    "&A\\qvec{1 \\\\ 0}=\\qvec{0, -1}\\\\\n",
    "&A\\qvec{0 \\\\ -1}=\\qvec{-1, 0}\\\\\n",
    "&A\\qvec{-1 \\\\ 0}=\\qvec{0, 1}\n",
    "\\end{aligned}\n",
    "$$\n",
    "\n",
    "After the fourth operation we're back where we started. Plotting this we get:"
   ]
  },
  {
   "cell_type": "code",
   "execution_count": 9,
   "metadata": {},
   "outputs": [
    {
     "data": {
      "image/png": "[encoded data removed]",
      "text/plain": [
       "<Figure size 2500x500 with 5 Axes>"
      ]
     },
     "metadata": {},
     "output_type": "display_data"
    }
   ],
   "source": [
    "#| echo: false\n",
    "import matplotlib.pyplot as plt\n",
    "import numpy as np\n",
    "\n",
    "fig, axs = plt.subplots(1, 5, figsize=(25, 5))\n",
    "vecs = [[0, 1], [1, 0], [0, -1], [-1, 0], [0, 1]]\n",
    "\n",
    "for i in range(len(vecs)):\n",
    "    axs[i].quiver(0, 0, vecs[i][1], vecs[i][0], angles='xy', scale_units='xy', scale=1)\n",
    "    axs[i].axhline(0, color='black',linewidth=0.5)\n",
    "    axs[i].axvline(0, color='black',linewidth=0.5)\n",
    "    axs[i].set_title(f\"Figure {i+1}\")\n",
    "    axs[i].grid(True)\n",
    "    axs[i].xaxis.set_ticks(np.arange(-2, 3, 1))\n",
    "    axs[i].yaxis.set_ticks(np.arange(-2, 3, 1))\n",
    "\n",
    "plt.tight_layout()\n",
    "plt.show()"
   ]
  },
  {
   "cell_type": "markdown",
   "metadata": {},
   "source": [
    "So the matrix $A$ performs a counterclockwise rotation on its input vector by 90 degrees!"
   ]
  },
  {
   "cell_type": "markdown",
   "metadata": {},
   "source": [
    "## Matrix-matrix multiplication"
   ]
  },
  {
   "cell_type": "markdown",
   "metadata": {},
   "source": [
    "We're now ready to cover matrix-matrix multiplication, what it means, and how it works. Suppose we have two matrices, $M$ and $N$, and a vector $x$. What does $MNx$ mean? What helps to think about this problem is that matrix multiplication is assosiative:\n",
    "$$\n",
    "(MN)x=M(Nx)\n",
    "\\tag{5}\n",
    "$$\n",
    "On the righthand side, $Nx$ returns a vector, which we then multiply by $M$. Thinking of matrices as functions, if we have two functions, $m$ and $n$ that simply multiply the corresponding matrix by their argument, then $M(Nx)$ is nothing more than $m(n(x))$."
   ]
  },
  {
   "cell_type": "markdown",
   "metadata": {},
   "source": [
    "## Type systems"
   ]
  },
  {
   "cell_type": "markdown",
   "metadata": {},
   "source": [
    "Let's look at another example of matrix-vector multiplication, this time with a non-square matrix:\n",
    "\n",
    "$$\\begin{bmatrix}\n",
    "0 & 1 \\\\\n",
    "-1 & 0 \\\\\n",
    "0 & 0\n",
    "\\end{bmatrix}\n",
    "\\qvec{1 \\\\ 2}\n",
    "=\\qvec{2 \\\\ -1 \\\\ 0}$$\n",
    "\n",
    "Let's call this matrix on the left $M$. In the equation above we get our result by performing the dot product of $\\qvec{1, 2}$ with every row of $M$. In other words, we treat each row of $M$ as a vector, perform a pairwise multiplication of its elements with $\\qvec{1, 2}$, and sum them.\n",
    "\n",
    "Now here is something interesting. Since you can't perform a dot product of two vectors with different dimensions, for matrix-vector multiplication to work the number of elements in $\\qvec{1, 2}$ must be equal to the number of columns in $M$. Switching to thinking of $M$ as a function, _we've now learned something about the type of its input_. $M$'s arguments _must_ be vectors of two dimensions.\n",
    "\n",
    "The opposite is true for $M$'s rows. Because we perform a dot product of $\\qvec{1, 2}$ with every row of $M$ and $M$ has three rows, the output vector must necessarily have three elements. And so, the number of rows in $M$ tells us about the type of its output.\n",
    "\n",
    "Here is a simple way of expressing this in typescript:\n",
    "\n",
    "```ts\n",
    "// Columns are the input; rows are the output\n",
    "type mC = [number, number];\n",
    "type mR = [number, number, number];\n",
    "type M = (in: mC) -> mR;\n",
    "```\n",
    "\n",
    "Now let's consider how types for matrix multiplication work. Suppose we have a different matrix $N$, and we'd like to multiply $N$ by $M$. What must the type of the matrix $N$ be? Well, if we look at a term $NMx$, $M$'s output becomes $N$'s input. Thefore, $N$'s input and $M$'s output must be of the same type. In other words, $N$'s number of columns must be the same as $M$'s number of rows:\n",
    "\n",
    "```ts\n",
    "type N = (in: mR) -> any;\n",
    "```\n",
    "\n"
   ]
  },
  {
   "cell_type": "markdown",
   "metadata": {},
   "source": [
    "## What's next?"
   ]
  },
  {
   "cell_type": "markdown",
   "metadata": {},
   "source": [
    "This post should give you a basic intuition for what matrices are and how they work. However, we've just scrated the surface. Here are some interesting questions for you to consider:\n",
    "\n",
    "- You saw we can treat rows of a matrix as vectors. What is the intuitive meaning of these row vectors?\n",
    "- This (correctly) suggests we can also treat matrix columns as vectors. What is the intuitive meaning of column vectors?\n",
    "- If we think of a matrix $A$ as a function, can we look at it and tell which inputs result in the output of zero? In other words, how do we solve $Ax=0$?\n",
    "- We know matrix multiplication can be thought of as composing two functions into a single function. Can we do the opposite and break up a matrix into multiple smaller functions? How? And what would these smaller functions do?\n",
    "- What the heck are determinants, eigenvectors, and eigenvalues?\n",
    "\n",
    "To start answering these questions, in the next part I plan to cover linear combinations, vector spaces, linear maps, and linear independence. Stay tuned!"
   ]
  }
 ],
 "metadata": {
  "kernelspec": {
   "display_name": "Python 3",
   "language": "python",
   "name": "python3"
  },
  "language_info": {
   "codemirror_mode": {
    "name": "ipython",
    "version": 3
   },
   "file_extension": ".py",
   "mimetype": "text/x-python",
   "name": "python",
   "nbconvert_exporter": "python",
   "pygments_lexer": "ipython3",
   "version": "3.9.16"
  },
  "orig_nbformat": 4
 },
 "nbformat": 4,
 "nbformat_minor": 2
}
